{
  "nbformat": 4,
  "nbformat_minor": 0,
  "metadata": {
    "colab": {
      "provenance": [],
      "authorship_tag": "ABX9TyNsfAUQYZUd9HuWzmV07oPY",
      "include_colab_link": true
    },
    "kernelspec": {
      "name": "python3",
      "display_name": "Python 3"
    },
    "language_info": {
      "name": "python"
    }
  },
  "cells": [
    {
      "cell_type": "markdown",
      "metadata": {
        "id": "view-in-github",
        "colab_type": "text"
      },
      "source": [
        "<a href=\"https://colab.research.google.com/github/shrishaameenaa-cmd/Data_Processing_Challenge/blob/main/23BCS160_In_Memory_Data_Processing_Challenge.ipynb\" target=\"_parent\"><img src=\"https://colab.research.google.com/assets/colab-badge.svg\" alt=\"Open In Colab\"/></a>"
      ]
    },
    {
      "cell_type": "code",
      "execution_count": 1,
      "metadata": {
        "colab": {
          "base_uri": "https://localhost:8080/"
        },
        "id": "odrGh0aQ3qfk",
        "outputId": "7379d72c-9756-4a3c-a259-4d86d28db6fe"
      },
      "outputs": [
        {
          "output_type": "stream",
          "name": "stdout",
          "text": [
            "Requirement already satisfied: pyspark in /usr/local/lib/python3.12/dist-packages (3.5.1)\n",
            "Requirement already satisfied: py4j==0.10.9.7 in /usr/local/lib/python3.12/dist-packages (from pyspark) (0.10.9.7)\n"
          ]
        }
      ],
      "source": [
        "!pip install pyspark\n"
      ]
    },
    {
      "cell_type": "code",
      "source": [
        "from pyspark.sql import SparkSession\n",
        "from pyspark.sql.functions import avg, col\n",
        "import pandas as pd\n",
        "import time\n"
      ],
      "metadata": {
        "id": "bEqMub9438gD"
      },
      "execution_count": 2,
      "outputs": []
    },
    {
      "cell_type": "code",
      "source": [
        "spark = SparkSession.builder.appName(\"InMemoryProcessingDemo\").getOrCreate()\n"
      ],
      "metadata": {
        "id": "abiFI5Td3-Gd"
      },
      "execution_count": 3,
      "outputs": []
    },
    {
      "cell_type": "code",
      "source": [
        "# Create a sample dataset with 1 million rows\n",
        "data = [(i, i % 100, (i * 0.5) % 50) for i in range(1_000_000)]\n",
        "columns = [\"id\", \"category\", \"value\"]\n",
        "\n",
        "df = spark.createDataFrame(data, columns)\n",
        "df.show(5)\n"
      ],
      "metadata": {
        "colab": {
          "base_uri": "https://localhost:8080/"
        },
        "id": "s22M4fBq4DIb",
        "outputId": "770f2fd2-57b2-4954-964c-89f993b7abc3"
      },
      "execution_count": 4,
      "outputs": [
        {
          "output_type": "stream",
          "name": "stdout",
          "text": [
            "+---+--------+-----+\n",
            "| id|category|value|\n",
            "+---+--------+-----+\n",
            "|  0|       0|  0.0|\n",
            "|  1|       1|  0.5|\n",
            "|  2|       2|  1.0|\n",
            "|  3|       3|  1.5|\n",
            "|  4|       4|  2.0|\n",
            "+---+--------+-----+\n",
            "only showing top 5 rows\n",
            "\n"
          ]
        }
      ]
    },
    {
      "cell_type": "code",
      "source": [
        "df.cache()  # Store DataFrame in memory\n"
      ],
      "metadata": {
        "colab": {
          "base_uri": "https://localhost:8080/"
        },
        "id": "7nFgYriT4O3G",
        "outputId": "0f7bb273-1abd-48f7-eb30-5564580d4e0b"
      },
      "execution_count": 5,
      "outputs": [
        {
          "output_type": "execute_result",
          "data": {
            "text/plain": [
              "DataFrame[id: bigint, category: bigint, value: double]"
            ]
          },
          "metadata": {},
          "execution_count": 5
        }
      ]
    },
    {
      "cell_type": "code",
      "source": [
        "start = time.time()\n",
        "\n",
        "result = df.groupBy(\"category\").agg(avg(\"value\").alias(\"avg_value\"))\n",
        "result.show(10)\n",
        "\n",
        "end = time.time()\n",
        "print(\"⏱ In-Memory Execution Time:\", round(end - start, 2), \"seconds\")\n"
      ],
      "metadata": {
        "colab": {
          "base_uri": "https://localhost:8080/"
        },
        "id": "ahOdH0ZF4R5g",
        "outputId": "be2bd015-407f-47ad-a65f-b68248c61fc3"
      },
      "execution_count": 6,
      "outputs": [
        {
          "output_type": "stream",
          "name": "stdout",
          "text": [
            "+--------+---------+\n",
            "|category|avg_value|\n",
            "+--------+---------+\n",
            "|      26|     13.0|\n",
            "|      29|     14.5|\n",
            "|      65|     32.5|\n",
            "|      19|      9.5|\n",
            "|      54|     27.0|\n",
            "|       0|      0.0|\n",
            "|      22|     11.0|\n",
            "|       7|      3.5|\n",
            "|      77|     38.5|\n",
            "|      34|     17.0|\n",
            "+--------+---------+\n",
            "only showing top 10 rows\n",
            "\n",
            "⏱ In-Memory Execution Time: 10.72 seconds\n"
          ]
        }
      ]
    },
    {
      "cell_type": "code",
      "source": [
        "df.unpersist()  # Remove from memory\n",
        "\n",
        "start = time.time()\n",
        "result = df.groupBy(\"category\").agg(avg(\"value\").alias(\"avg_value\")).collect()\n",
        "end = time.time()\n",
        "\n",
        "print(\"⏱ Disk-Based Execution Time:\", round(end - start, 2), \"seconds\")\n"
      ],
      "metadata": {
        "colab": {
          "base_uri": "https://localhost:8080/"
        },
        "id": "HAc34R5Z4XSY",
        "outputId": "38222e2f-6f9e-4fbe-b34f-fd8dceeb80ad"
      },
      "execution_count": 7,
      "outputs": [
        {
          "output_type": "stream",
          "name": "stdout",
          "text": [
            "⏱ Disk-Based Execution Time: 3.88 seconds\n"
          ]
        }
      ]
    },
    {
      "cell_type": "code",
      "source": [
        "for batch in range(3):\n",
        "    print(f\"=== Batch {batch+1} ===\")\n",
        "    new_data = [(i + batch * 1000000, i % 100, (i * 0.3) % 50) for i in range(100000)]\n",
        "    new_df = spark.createDataFrame(new_data, columns)\n",
        "    new_df.cache()\n",
        "    result = new_df.groupBy(\"category\").agg(avg(\"value\").alias(\"avg_value\"))\n",
        "    result.show(5)\n"
      ],
      "metadata": {
        "colab": {
          "base_uri": "https://localhost:8080/"
        },
        "id": "bKbN0jZV4a2p",
        "outputId": "29bcb53c-532a-4434-9657-50bbada3b623"
      },
      "execution_count": 8,
      "outputs": [
        {
          "output_type": "stream",
          "name": "stdout",
          "text": [
            "=== Batch 1 ===\n",
            "+--------+------------------+\n",
            "|category|         avg_value|\n",
            "+--------+------------------+\n",
            "|      26| 27.79999999999945|\n",
            "|      29|28.699999999999935|\n",
            "|      65|              29.5|\n",
            "|      19|25.699999999999935|\n",
            "|      54|26.199999999999935|\n",
            "+--------+------------------+\n",
            "only showing top 5 rows\n",
            "\n",
            "=== Batch 2 ===\n",
            "+--------+------------------+\n",
            "|category|         avg_value|\n",
            "+--------+------------------+\n",
            "|      26| 27.79999999999945|\n",
            "|      29|28.699999999999935|\n",
            "|      65|              29.5|\n",
            "|      19|25.699999999999935|\n",
            "|      54|26.199999999999935|\n",
            "+--------+------------------+\n",
            "only showing top 5 rows\n",
            "\n",
            "=== Batch 3 ===\n",
            "+--------+------------------+\n",
            "|category|         avg_value|\n",
            "+--------+------------------+\n",
            "|      26| 27.79999999999945|\n",
            "|      29|28.699999999999935|\n",
            "|      65|              29.5|\n",
            "|      19|25.699999999999935|\n",
            "|      54|26.199999999999935|\n",
            "+--------+------------------+\n",
            "only showing top 5 rows\n",
            "\n"
          ]
        }
      ]
    }
  ]
}
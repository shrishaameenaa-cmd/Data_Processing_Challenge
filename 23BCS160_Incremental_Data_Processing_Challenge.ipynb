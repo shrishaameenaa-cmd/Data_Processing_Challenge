{
  "nbformat": 4,
  "nbformat_minor": 0,
  "metadata": {
    "colab": {
      "provenance": [],
      "authorship_tag": "ABX9TyO4Nqc8NNcT8pPVgr9DMsIS",
      "include_colab_link": true
    },
    "kernelspec": {
      "name": "python3",
      "display_name": "Python 3"
    },
    "language_info": {
      "name": "python"
    }
  },
  "cells": [
    {
      "cell_type": "markdown",
      "metadata": {
        "id": "view-in-github",
        "colab_type": "text"
      },
      "source": [
        "<a href=\"https://colab.research.google.com/github/shrishaameenaa-cmd/Data_Processing_Challenge/blob/main/23BCS160_Incremental_Data_Processing_Challenge.ipynb\" target=\"_parent\"><img src=\"https://colab.research.google.com/assets/colab-badge.svg\" alt=\"Open In Colab\"/></a>"
      ]
    },
    {
      "cell_type": "code",
      "execution_count": 1,
      "metadata": {
        "colab": {
          "base_uri": "https://localhost:8080/"
        },
        "id": "8I0TWrwc0_y0",
        "outputId": "a7a712e5-1eda-45e6-eb01-b03191efd401"
      },
      "outputs": [
        {
          "output_type": "stream",
          "name": "stdout",
          "text": [
            "Requirement already satisfied: pyspark in /usr/local/lib/python3.12/dist-packages (3.5.1)\n",
            "Requirement already satisfied: py4j==0.10.9.7 in /usr/local/lib/python3.12/dist-packages (from pyspark) (0.10.9.7)\n"
          ]
        }
      ],
      "source": [
        "!pip install pyspark\n"
      ]
    },
    {
      "cell_type": "code",
      "source": [
        "from pyspark.sql import SparkSession\n",
        "from pyspark.sql.functions import col, lit, when\n",
        "import pandas as pd\n",
        "import time\n"
      ],
      "metadata": {
        "id": "SXuo5TO11NmN"
      },
      "execution_count": 2,
      "outputs": []
    },
    {
      "cell_type": "code",
      "source": [
        "spark = SparkSession.builder.appName(\"CDC_Simulation\").getOrCreate()\n"
      ],
      "metadata": {
        "id": "haXPXjQd1Q64"
      },
      "execution_count": 3,
      "outputs": []
    },
    {
      "cell_type": "code",
      "source": [
        "initial_data = pd.DataFrame({\n",
        "    \"customer_id\": [1, 2, 3],\n",
        "    \"balance\": [1000, 1500, 1200],\n",
        "    \"status\": [\"active\", \"active\", \"inactive\"]\n",
        "})\n",
        "\n",
        "df_base = spark.createDataFrame(initial_data)\n",
        "df_base.show()\n"
      ],
      "metadata": {
        "colab": {
          "base_uri": "https://localhost:8080/"
        },
        "id": "fdmQ0wE21V3t",
        "outputId": "835c8826-edaa-490f-8003-faeb544a08d1"
      },
      "execution_count": 4,
      "outputs": [
        {
          "output_type": "stream",
          "name": "stdout",
          "text": [
            "+-----------+-------+--------+\n",
            "|customer_id|balance|  status|\n",
            "+-----------+-------+--------+\n",
            "|          1|   1000|  active|\n",
            "|          2|   1500|  active|\n",
            "|          3|   1200|inactive|\n",
            "+-----------+-------+--------+\n",
            "\n"
          ]
        }
      ]
    },
    {
      "cell_type": "code",
      "source": [
        "cdc_events = pd.DataFrame({\n",
        "    \"customer_id\": [2, 4],\n",
        "    \"balance\": [1800, 900],\n",
        "    \"status\": [\"active\", \"active\"]\n",
        "})\n",
        "\n",
        "df_cdc = spark.createDataFrame(cdc_events)\n",
        "df_cdc.show()\n"
      ],
      "metadata": {
        "colab": {
          "base_uri": "https://localhost:8080/"
        },
        "id": "FICLgpNl1bkC",
        "outputId": "65ae3eb3-de97-4a30-993a-3301426983cd"
      },
      "execution_count": 5,
      "outputs": [
        {
          "output_type": "stream",
          "name": "stdout",
          "text": [
            "+-----------+-------+------+\n",
            "|customer_id|balance|status|\n",
            "+-----------+-------+------+\n",
            "|          2|   1800|active|\n",
            "|          4|    900|active|\n",
            "+-----------+-------+------+\n",
            "\n"
          ]
        }
      ]
    },
    {
      "cell_type": "code",
      "source": [
        "# Merge changes incrementally\n",
        "df_merged = (\n",
        "    df_base.alias(\"base\")\n",
        "    .join(df_cdc.alias(\"cdc\"), col(\"base.customer_id\") == col(\"cdc.customer_id\"), \"outer\")\n",
        "    .select(\n",
        "        when(col(\"cdc.customer_id\").isNotNull(), col(\"cdc.customer_id\")).otherwise(col(\"base.customer_id\")).alias(\"customer_id\"),\n",
        "        when(col(\"cdc.balance\").isNotNull(), col(\"cdc.balance\")).otherwise(col(\"base.balance\")).alias(\"balance\"),\n",
        "        when(col(\"cdc.status\").isNotNull(), col(\"cdc.status\")).otherwise(col(\"base.status\")).alias(\"status\")\n",
        "    )\n",
        ")\n",
        "\n",
        "df_merged.show()\n"
      ],
      "metadata": {
        "colab": {
          "base_uri": "https://localhost:8080/"
        },
        "id": "qZKuyDYZ1fgK",
        "outputId": "26a01c7a-7d7f-4c7b-f752-68478c2e25cc"
      },
      "execution_count": 6,
      "outputs": [
        {
          "output_type": "stream",
          "name": "stdout",
          "text": [
            "+-----------+-------+--------+\n",
            "|customer_id|balance|  status|\n",
            "+-----------+-------+--------+\n",
            "|          1|   1000|  active|\n",
            "|          2|   1800|  active|\n",
            "|          3|   1200|inactive|\n",
            "|          4|    900|  active|\n",
            "+-----------+-------+--------+\n",
            "\n"
          ]
        }
      ]
    },
    {
      "cell_type": "code",
      "source": [
        "df_final = df_merged.withColumn(\"risk_score\", col(\"balance\") / 100)\n",
        "df_final.show()\n"
      ],
      "metadata": {
        "colab": {
          "base_uri": "https://localhost:8080/"
        },
        "id": "V8fFr7a81jmG",
        "outputId": "bb5ab102-9ff9-4ecb-f088-db19d46aa2c9"
      },
      "execution_count": 7,
      "outputs": [
        {
          "output_type": "stream",
          "name": "stdout",
          "text": [
            "+-----------+-------+--------+----------+\n",
            "|customer_id|balance|  status|risk_score|\n",
            "+-----------+-------+--------+----------+\n",
            "|          1|   1000|  active|      10.0|\n",
            "|          2|   1800|  active|      18.0|\n",
            "|          3|   1200|inactive|      12.0|\n",
            "|          4|    900|  active|       9.0|\n",
            "+-----------+-------+--------+----------+\n",
            "\n"
          ]
        }
      ]
    },
    {
      "cell_type": "code",
      "source": [
        "for batch in range(3):\n",
        "    print(f\"=== Batch {batch+1} ===\")\n",
        "    # New incremental change each loop\n",
        "    new_change = pd.DataFrame({\n",
        "        \"customer_id\": [batch + 5],\n",
        "        \"balance\": [1000 + batch * 200],\n",
        "        \"status\": [\"active\"]\n",
        "    })\n",
        "    df_cdc_new = spark.createDataFrame(new_change)\n",
        "    df_merged = (\n",
        "        df_final.alias(\"base\")\n",
        "        .join(df_cdc_new.alias(\"cdc\"), col(\"base.customer_id\") == col(\"cdc.customer_id\"), \"outer\")\n",
        "        .select(\n",
        "            when(col(\"cdc.customer_id\").isNotNull(), col(\"cdc.customer_id\")).otherwise(col(\"base.customer_id\")).alias(\"customer_id\"),\n",
        "            when(col(\"cdc.balance\").isNotNull(), col(\"cdc.balance\")).otherwise(col(\"base.balance\")).alias(\"balance\"),\n",
        "            when(col(\"cdc.status\").isNotNull(), col(\"cdc.status\")).otherwise(col(\"base.status\")).alias(\"status\")\n",
        "        )\n",
        "    )\n",
        "    df_final = df_merged.withColumn(\"risk_score\", col(\"balance\") / 100)\n",
        "    df_final.show()\n",
        "    time.sleep(2)\n"
      ],
      "metadata": {
        "colab": {
          "base_uri": "https://localhost:8080/"
        },
        "id": "FE21D5EN1m2l",
        "outputId": "23450200-afbc-49bb-92fa-cfc96213b830"
      },
      "execution_count": 8,
      "outputs": [
        {
          "output_type": "stream",
          "name": "stdout",
          "text": [
            "=== Batch 1 ===\n",
            "+-----------+-------+--------+----------+\n",
            "|customer_id|balance|  status|risk_score|\n",
            "+-----------+-------+--------+----------+\n",
            "|          1|   1000|  active|      10.0|\n",
            "|          2|   1800|  active|      18.0|\n",
            "|          3|   1200|inactive|      12.0|\n",
            "|          4|    900|  active|       9.0|\n",
            "|          5|   1000|  active|      10.0|\n",
            "+-----------+-------+--------+----------+\n",
            "\n",
            "=== Batch 2 ===\n",
            "+-----------+-------+--------+----------+\n",
            "|customer_id|balance|  status|risk_score|\n",
            "+-----------+-------+--------+----------+\n",
            "|          1|   1000|  active|      10.0|\n",
            "|          2|   1800|  active|      18.0|\n",
            "|          3|   1200|inactive|      12.0|\n",
            "|          4|    900|  active|       9.0|\n",
            "|          5|   1000|  active|      10.0|\n",
            "|          6|   1200|  active|      12.0|\n",
            "+-----------+-------+--------+----------+\n",
            "\n",
            "=== Batch 3 ===\n",
            "+-----------+-------+--------+----------+\n",
            "|customer_id|balance|  status|risk_score|\n",
            "+-----------+-------+--------+----------+\n",
            "|          1|   1000|  active|      10.0|\n",
            "|          2|   1800|  active|      18.0|\n",
            "|          3|   1200|inactive|      12.0|\n",
            "|          4|    900|  active|       9.0|\n",
            "|          5|   1000|  active|      10.0|\n",
            "|          6|   1200|  active|      12.0|\n",
            "|          7|   1400|  active|      14.0|\n",
            "+-----------+-------+--------+----------+\n",
            "\n"
          ]
        }
      ]
    }
  ]
}